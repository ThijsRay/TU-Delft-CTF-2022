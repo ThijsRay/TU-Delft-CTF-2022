{
 "cells": [
  {
   "cell_type": "code",
   "execution_count": 16,
   "metadata": {},
   "outputs": [
    {
     "data": {
      "image/png": "[encoded data removed]",
      "text/plain": [
       "<PIL.PngImagePlugin.PngImageFile image mode=P size=240x160 at 0x2531F1EAF70>"
      ]
     },
     "metadata": {},
     "output_type": "display_data"
    }
   ],
   "source": [
    "import PIL\n",
    "from PIL import Image\n",
    "import numpy as np\n",
    "\n",
    "QRFLAG = \"TUDCTF{color_palette_town}\"\n",
    "EXIFFLAG = \"TUDCTF{exfiltrating_the_exif}\"\n",
    "ZIPFLAG = \"TUDCTF{evidence.zip}\"\n",
    "HEIGHTFLAG = \"TUDCTF{at_the_height_of_hiding}\"\n",
    "\n",
    "# Open the image\n",
    "im = Image.open(\"orig.png\")\n",
    "display(im)"
   ]
  },
  {
   "cell_type": "code",
   "execution_count": 17,
   "metadata": {},
   "outputs": [
    {
     "data": {
      "image/png": "[encoded data removed]",
      "text/plain": [
       "<PIL.Image.Image image mode=P size=240x160 at 0x253202A9A30>"
      ]
     },
     "metadata": {},
     "output_type": "display_data"
    }
   ],
   "source": [
    "result = im.convert('P', palette = Image.ADAPTIVE)\n",
    "display(result)"
   ]
  },
  {
   "cell_type": "code",
   "execution_count": 18,
   "metadata": {},
   "outputs": [
    {
     "name": "stdout",
     "output_type": "stream",
     "text": [
      "768 256\n"
     ]
    },
    {
     "data": {
      "image/png": "[encoded data removed]",
      "text/plain": [
       "<PIL.Image.Image image mode=P size=240x160 at 0x253202A9A30>"
      ]
     },
     "metadata": {},
     "output_type": "display_data"
    }
   ],
   "source": [
    "import qrcode\n",
    "\n",
    "qr = qrcode.QRCode(\n",
    "    version=1,\n",
    "    error_correction=qrcode.constants.ERROR_CORRECT_L,\n",
    "    box_size=10,\n",
    "    border=4,\n",
    ")\n",
    "qr.add_data(QRFLAG)\n",
    "qr.make(fit=True)\n",
    "\n",
    "qr_img = qr.make_image(fill_color=\"black\", back_color=\"white\")\n",
    "min_dim = min(result.size)\n",
    "qr_img.resize((min_dim, min_dim))\n",
    "# pad the qr code to the same size as the image\n",
    "qr_img = qr_img.resize((result.size[0], result.size[1]))\n",
    "\n",
    "qr_img = np.array(qr_img).astype(np.uint8)\n",
    "\n",
    "result_arr = np.array(result).astype(np.uint8)\n",
    "result_arr = result_arr + qr_img * 64\n",
    "result.putdata(result_arr.flatten())\n",
    "new_palette = result.getpalette()[:64*3] + result.getpalette()[:64*3] + result.getpalette()[:64*3] + result.getpalette()[:64*3]\n",
    "print(len(new_palette), len(new_palette)//3)\n",
    "result.putpalette(new_palette)\n",
    "display(result)\n",
    "result.save(\"with_qr.png\")"
   ]
  },
  {
   "cell_type": "code",
   "execution_count": 19,
   "metadata": {},
   "outputs": [],
   "source": [
    "# hide in exif\n",
    "from PIL.ExifTags import TAGS\n",
    "import base64\n",
    "\n",
    "img_exif = result.getexif()\n",
    "img_exif[0x9286] = base64.b64encode(EXIFFLAG.encode(\"ascii\"))\n",
    "img_exif[0x927C] = \"password=Obamium\"\n",
    "result.save(\"with_qr_exif.png\", exif=img_exif)"
   ]
  },
  {
   "cell_type": "code",
   "execution_count": 20,
   "metadata": {},
   "outputs": [
    {
     "data": {
      "image/png": "[encoded data removed]",
      "text/plain": [
       "<PIL.Image.Image image mode=P size=240x174 at 0x25320F0E9A0>"
      ]
     },
     "metadata": {},
     "output_type": "display_data"
    }
   ],
   "source": [
    "from PIL import ImageDraw\n",
    "# Hide extra stuff in height\n",
    "original_height = result.size[1]\n",
    "# pad 50px down\n",
    "result = result.crop((0, 0, result.size[0], result.size[1] + 14))\n",
    "# add the flag\n",
    "draw = ImageDraw.Draw(result)\n",
    "draw.text((25, original_height), HEIGHTFLAG, fill=(0, 0, 0))\n",
    "# revert height bitwise\n",
    "result.save(\"with_qr_exif_height.png\", exif=img_exif)\n",
    "display(result)"
   ]
  },
  {
   "cell_type": "code",
   "execution_count": 21,
   "metadata": {},
   "outputs": [],
   "source": [
    "# Set height to orig_height without removing the data\n",
    "with open(\"with_qr_exif_height.png\", \"rb\") as f:\n",
    "    data = bytearray(f.read())\n",
    "\n",
    "data[0x17] = original_height & 0xFF\n",
    "\n",
    "#CRC = 05051157\n",
    "data[0x1D] = 0x05\n",
    "data[0x1E] = 0x05\n",
    "data[0x1F] = 0x11\n",
    "data[0x20] = 0x57\n",
    "\n",
    "with open(\"with_qr_exif_height.png\", \"wb\") as f:\n",
    "    f.write(data)"
   ]
  },
  {
   "cell_type": "code",
   "execution_count": 22,
   "metadata": {},
   "outputs": [],
   "source": [
    "# hide zip file in image\n",
    "import pyminizip\n",
    "\n",
    "# write flag\n",
    "with open(\"flag.txt\", \"w\") as f:\n",
    "    f.write(ZIPFLAG)\n",
    "\n",
    "pyminizip.compress(\"flag.txt\", None, \"vault.zip\", \"Obamium\", 0)\n",
    "\n",
    "# hide zip file in image\n",
    "with open(\"vault.zip\", \"rb\") as f:\n",
    "    zip_data = f.read()\n",
    "\n",
    "with open(\"with_qr_exif_height.png\", \"rb\") as f:\n",
    "    img_data = f.read()\n",
    "\n",
    "with open(\"with_qr_exif_height_zip.png\", \"wb\") as f:\n",
    "    f.write(img_data + zip_data)"
   ]
  }
 ],
 "metadata": {
  "kernelspec": {
   "display_name": "Python 3.9.7 ('base')",
   "language": "python",
   "name": "python3"
  },
  "language_info": {
   "codemirror_mode": {
    "name": "ipython",
    "version": 3
   },
   "file_extension": ".py",
   "mimetype": "text/x-python",
   "name": "python",
   "nbconvert_exporter": "python",
   "pygments_lexer": "ipython3",
   "version": "3.9.7"
  },
  "orig_nbformat": 4,
  "vscode": {
   "interpreter": {
    "hash": "d12e26f72a40d5c48233c54861fca038d6a92135fc0e5e920944e69c69b6b29d"
   }
  }
 },
 "nbformat": 4,
 "nbformat_minor": 2
}
